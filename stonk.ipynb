{
 "cells": [
  {
   "cell_type": "markdown",
   "source": [
    "import pandas as pdfrom bs4 import BeautifulSoup\r\n",
    "import requests\r\n",
    "\r\n",
    "url = \"https://towardsdatascience.com/how-to-scrape-any-website-with-python-and-beautiful-soup-bc84e95a3483\"\r\n",
    "page = requests.get(url)\r\n",
    "print(page)"
   ],
   "metadata": {}
  },
  {
   "cell_type": "markdown",
   "source": [],
   "metadata": {}
  }
 ],
 "metadata": {
  "orig_nbformat": 4,
  "language_info": {
   "name": "python",
   "version": "3.7.11"
  },
  "kernelspec": {
   "name": "python3",
   "display_name": "Python 3.7.11 64-bit ('myenv': conda)"
  },
  "interpreter": {
   "hash": "13733293932c4f58cc060f793fb798fb7361de804e52dbced6fee124757f072d"
  }
 },
 "nbformat": 4,
 "nbformat_minor": 2
}